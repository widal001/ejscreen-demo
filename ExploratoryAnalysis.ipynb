{
 "cells": [
  {
   "cell_type": "code",
   "execution_count": 1,
   "id": "cardiovascular-vegetation",
   "metadata": {},
   "outputs": [],
   "source": [
    "import pandas as pd\n",
    "from pprint import pprint"
   ]
  },
  {
   "cell_type": "code",
   "execution_count": 2,
   "id": "dimensional-territory",
   "metadata": {},
   "outputs": [],
   "source": [
    "path = \"/Users/williamdaly/Downloads/EJSCREEN_2020_StatePctile.csv\"\n",
    "df = pd.read_csv(path, low_memory=False)"
   ]
  },
  {
   "cell_type": "code",
   "execution_count": 3,
   "id": "royal-chambers",
   "metadata": {},
   "outputs": [],
   "source": [
    "maryland = (df[\"STATE_NAME\"] == \"Maryland\")\n",
    "df_md = df[maryland].reset_index()"
   ]
  },
  {
   "cell_type": "code",
   "execution_count": 23,
   "id": "adverse-planner",
   "metadata": {},
   "outputs": [
    {
     "data": {
      "text/plain": [
       "125"
      ]
     },
     "execution_count": 23,
     "metadata": {},
     "output_type": "execute_result"
    }
   ],
   "source": [
    "len(df_md.columns)"
   ]
  },
  {
   "cell_type": "code",
   "execution_count": 33,
   "id": "suitable-audio",
   "metadata": {},
   "outputs": [],
   "source": [
    "col_path = \"mapper/common/EJScreenIndicators.csv\"\n",
    "df_cols = pd.read_csv(col_path)"
   ]
  },
  {
   "cell_type": "code",
   "execution_count": 34,
   "id": "handmade-marriage",
   "metadata": {},
   "outputs": [],
   "source": [
    "values = df_cols.to_dict(\"records\")"
   ]
  },
  {
   "cell_type": "code",
   "execution_count": 27,
   "id": "developmental-blast",
   "metadata": {},
   "outputs": [],
   "source": [
    "missing = [c for c in cols if c not in df_md.columns]"
   ]
  },
  {
   "cell_type": "code",
   "execution_count": 36,
   "id": "american-courtesy",
   "metadata": {},
   "outputs": [
    {
     "data": {
      "text/plain": [
       "{'ACSTOTPOP': {'id': 1,\n",
       "  'category': 'demographic',\n",
       "  'source': 'EJScreen',\n",
       "  'source_name': 'ACSTOTPOP',\n",
       "  'description': 'Total population'},\n",
       " 'MINORPCT': {'id': 2,\n",
       "  'category': 'demographic',\n",
       "  'source': 'EJScreen',\n",
       "  'source_name': 'MINORPCT',\n",
       "  'description': '% people of color'},\n",
       " 'LOWINCPCT': {'id': 3,\n",
       "  'category': 'demographic',\n",
       "  'source': 'EJScreen',\n",
       "  'source_name': 'LOWINCPCT',\n",
       "  'description': '% low-income'},\n",
       " 'LESSHSPCT': {'id': 4,\n",
       "  'category': 'demographic',\n",
       "  'source': 'EJScreen',\n",
       "  'source_name': 'LESSHSPCT',\n",
       "  'description': '% less than high school'},\n",
       " 'LINGISOPCT': {'id': 5,\n",
       "  'category': 'demographic',\n",
       "  'source': 'EJScreen',\n",
       "  'source_name': 'LINGISOPCT',\n",
       "  'description': '% of households (interpreted as individuals) in linguistic isolation'},\n",
       " 'UNDER5PCT': {'id': 6,\n",
       "  'category': 'demographic',\n",
       "  'source': 'EJScreen',\n",
       "  'source_name': 'UNDER5PCT',\n",
       "  'description': '% under age 5'},\n",
       " 'OVER64PCT': {'id': 7,\n",
       "  'category': 'demographic',\n",
       "  'source': 'EJScreen',\n",
       "  'source_name': 'OVER64PCT',\n",
       "  'description': '% over age 64'},\n",
       " 'PRE1960PCT': {'id': 8,\n",
       "  'category': 'environmental',\n",
       "  'source': 'EJScreen',\n",
       "  'source_name': 'PRE1960PCT',\n",
       "  'description': '% pre-1960 housing (lead paint indicator)'},\n",
       " 'DSLPM': {'id': 9,\n",
       "  'category': 'environmental',\n",
       "  'source': 'EJScreen',\n",
       "  'source_name': 'DSLPM',\n",
       "  'description': 'Diesel particulate matter level in air'},\n",
       " 'CANCER': {'id': 10,\n",
       "  'category': 'environmental',\n",
       "  'source': 'EJScreen',\n",
       "  'source_name': 'CANCER',\n",
       "  'description': 'Air toxics cancer risk'},\n",
       " 'RESP': {'id': 11,\n",
       "  'category': 'environmental',\n",
       "  'source': 'EJScreen',\n",
       "  'source_name': 'RESP',\n",
       "  'description': 'Air toxics respiratory hazard index'},\n",
       " 'PTRAF': {'id': 12,\n",
       "  'category': 'environmental',\n",
       "  'source': 'EJScreen',\n",
       "  'source_name': 'PTRAF',\n",
       "  'description': 'Traffic proximity and volume'},\n",
       " 'PWDIS': {'id': 13,\n",
       "  'category': 'environmental',\n",
       "  'source': 'EJScreen',\n",
       "  'source_name': 'PWDIS',\n",
       "  'description': 'Indicator for major direct dischargers to water'},\n",
       " 'PNPL': {'id': 14,\n",
       "  'category': 'environmental',\n",
       "  'source': 'EJScreen',\n",
       "  'source_name': 'PNPL',\n",
       "  'description': 'Proximity to National Priorities List (NPL) sites'},\n",
       " 'PRMP': {'id': 15,\n",
       "  'category': 'environmental',\n",
       "  'source': 'EJScreen',\n",
       "  'source_name': 'PRMP',\n",
       "  'description': 'Proximity to Risk Management Plan (RMP) facilities'},\n",
       " 'PTSDF': {'id': 16,\n",
       "  'category': 'environmental',\n",
       "  'source': 'EJScreen',\n",
       "  'source_name': 'PTSDF',\n",
       "  'description': 'Proximity to Treatment Storage and Disposal (TSDF) facilities'},\n",
       " 'OZONE': {'id': 17,\n",
       "  'category': 'environmental',\n",
       "  'source': 'EJScreen',\n",
       "  'source_name': 'OZONE',\n",
       "  'description': 'Ozone level in air'},\n",
       " 'PM25': {'id': 18,\n",
       "  'category': 'environmental',\n",
       "  'source': 'EJScreen',\n",
       "  'source_name': 'PM25',\n",
       "  'description': 'PM2.5 level in air'}}"
      ]
     },
     "execution_count": 36,
     "metadata": {},
     "output_type": "execute_result"
    }
   ],
   "source": [
    "{indicator[\"source_name\"]: indicator for indicator in values}"
   ]
  },
  {
   "cell_type": "code",
   "execution_count": null,
   "id": "equal-neighborhood",
   "metadata": {},
   "outputs": [],
   "source": []
  }
 ],
 "metadata": {
  "kernelspec": {
   "display_name": "Python 3",
   "language": "python",
   "name": "python3"
  },
  "language_info": {
   "codemirror_mode": {
    "name": "ipython",
    "version": 3
   },
   "file_extension": ".py",
   "mimetype": "text/x-python",
   "name": "python",
   "nbconvert_exporter": "python",
   "pygments_lexer": "ipython3",
   "version": "3.7.7"
  }
 },
 "nbformat": 4,
 "nbformat_minor": 5
}
