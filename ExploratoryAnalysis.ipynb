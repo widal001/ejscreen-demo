{
 "cells": [
  {
   "cell_type": "code",
   "execution_count": 3,
   "id": "cardiovascular-vegetation",
   "metadata": {},
   "outputs": [],
   "source": [
    "import json\n",
    "import pandas as pd\n",
    "import geopandas as gpd\n",
    "from pprint import pprint\n",
    "from pathlib import Path"
   ]
  },
  {
   "cell_type": "code",
   "execution_count": 5,
   "id": "american-courtesy",
   "metadata": {},
   "outputs": [],
   "source": [
    "geo_file = \"mapper/common/EJscreenGeo.json\""
   ]
  },
  {
   "cell_type": "code",
   "execution_count": 23,
   "id": "dimensional-territory",
   "metadata": {},
   "outputs": [],
   "source": [
    "path = \"/Users/williamdaly/Downloads/EJSCREEN_2020_StatePctile.csv\"\n",
    "df = pd.read_csv(path, low_memory=False)"
   ]
  },
  {
   "cell_type": "code",
   "execution_count": 56,
   "id": "possible-pottery",
   "metadata": {},
   "outputs": [],
   "source": [
    "df[\"ID\"] = df[\"ID\"].astype(\"str\").str.zfill(12)"
   ]
  },
  {
   "cell_type": "code",
   "execution_count": 57,
   "id": "royal-chambers",
   "metadata": {},
   "outputs": [],
   "source": [
    "maryland = (df[\"ST_ABBREV\"] == \"MD\")\n",
    "df_md = df[maryland].reset_index()"
   ]
  },
  {
   "cell_type": "code",
   "execution_count": 58,
   "id": "worst-lunch",
   "metadata": {},
   "outputs": [],
   "source": [
    "md_blocks = list(df_md[\"ID\"])"
   ]
  },
  {
   "cell_type": "code",
   "execution_count": null,
   "id": "suitable-audio",
   "metadata": {},
   "outputs": [],
   "source": [
    "col_path = \"mapper/common/EJScreenIndicators.csv\"\n",
    "df_cols = pd.read_csv(col_path)"
   ]
  },
  {
   "cell_type": "code",
   "execution_count": null,
   "id": "handmade-marriage",
   "metadata": {},
   "outputs": [],
   "source": [
    "values = df_cols.to_dict(\"records\")"
   ]
  },
  {
   "cell_type": "code",
   "execution_count": 16,
   "id": "whole-reaction",
   "metadata": {},
   "outputs": [
    {
     "data": {
      "text/plain": [
       "220340"
      ]
     },
     "execution_count": 16,
     "metadata": {},
     "output_type": "execute_result"
    }
   ],
   "source": [
    "count = 0\n",
    "with open(geo_file) as f:\n",
    "    for line in f:\n",
    "        count += 1\n",
    "count"
   ]
  },
  {
   "cell_type": "code",
   "execution_count": null,
   "id": "standing-cancer",
   "metadata": {},
   "outputs": [],
   "source": [
    "geo_json = [json.loads(obj) for obj in geo]"
   ]
  },
  {
   "cell_type": "code",
   "execution_count": 6,
   "id": "parliamentary-syndrome",
   "metadata": {},
   "outputs": [],
   "source": [
    "keep = [\"ID\", \"ST_ABBREV\", \"ACSTOTPOP\"]\n",
    "def parse_and_filter(text, keep=keep):\n",
    "    obj = json.loads(text)\n",
    "    props = {k: obj[\"properties\"][k] for k in keep}\n",
    "    obj[\"properties\"] = props\n",
    "    return obj"
   ]
  },
  {
   "cell_type": "code",
   "execution_count": 20,
   "id": "crude-neighborhood",
   "metadata": {},
   "outputs": [
    {
     "name": "stdout",
     "output_type": "stream",
     "text": [
      "Line: 110172\n",
      "<class 'json.decoder.JSONDecodeError'>: Expecting value: line 1 column 1 (char 0)\n"
     ]
    }
   ],
   "source": [
    "new_file = Path.cwd() / \"mapper\" / \"common\" / \"Blocks.json\"\n",
    "md_file = Path.cwd() / \"tests\" / \"data\" / \"sample_geo.json\"\n",
    "geo = []\n",
    "md_geo = []\n",
    "failed = []\n",
    "count_f = 0\n",
    "with open(geo_file) as f:\n",
    "    for line in range(5):\n",
    "        count_f += 1\n",
    "        next(f)\n",
    "    for line in f:\n",
    "        count_f += 1\n",
    "        try:\n",
    "            obj = parse_and_filter(f.readline().strip(\",\\n\"))\n",
    "            if obj[\"properties\"][\"ST_ABBREV\"] == \"MD\":\n",
    "                md_geo.append(obj)\n",
    "            geo.append(obj)\n",
    "        except Exception as e:\n",
    "            print(f\"Line: {count_f}\")\n",
    "            print(f\"{type(e)}: {e}\")\n",
    "            failed.append(f.readline().strip(\",\\n\"))\n",
    "            \n",
    "with open(new_file, \"w\") as file:\n",
    "    json.dump(geo, file)\n",
    "with open(md_file, \"w\") as file:\n",
    "    json.dump(md_geo, file)"
   ]
  },
  {
   "cell_type": "code",
   "execution_count": 103,
   "id": "hairy-eating",
   "metadata": {},
   "outputs": [],
   "source": [
    "with open(new_file) as f:\n",
    "    all_blocks = json.load(f)"
   ]
  },
  {
   "cell_type": "code",
   "execution_count": 111,
   "id": "equal-silicon",
   "metadata": {
    "scrolled": true
   },
   "outputs": [
    {
     "name": "stdout",
     "output_type": "stream",
     "text": [
      "Line: 110172\n",
      "<class 'json.decoder.JSONDecodeError'>: Expecting value: line 1 column 1 (char 0)\n"
     ]
    }
   ],
   "source": [
    "geo2 = []\n",
    "md_geo2 = []\n",
    "count2 = 0\n",
    "with open(geo_file) as f:\n",
    "    for line in range(110172):\n",
    "        count2 += 1\n",
    "        next(f)\n",
    "    for line in f:\n",
    "        try:\n",
    "            obj = parse_and_filter(f.readline().strip(\",\\n\"))\n",
    "            if obj[\"properties\"][\"ST_ABBREV\"] == \"MD\":\n",
    "                md_geo2.append(obj)\n",
    "            geo2.append(obj)\n",
    "        except Exception as e:\n",
    "            print(f\"Line: {count_f}\")\n",
    "            print(f\"{type(e)}: {e}\")\n",
    "            failed.append(f.readline().strip(\",\\n\"))"
   ]
  },
  {
   "cell_type": "code",
   "execution_count": 130,
   "id": "surrounded-professor",
   "metadata": {},
   "outputs": [
    {
     "name": "stdout",
     "output_type": "stream",
     "text": [
      "Line: 110172\n",
      "<class 'json.decoder.JSONDecodeError'>: Expecting value: line 1 column 1 (char 0)\n"
     ]
    }
   ],
   "source": [
    "geo3 = []\n",
    "md_geo3 = []\n",
    "count3 = 0\n",
    "with open(geo_file) as f:\n",
    "    for line in range(165255):\n",
    "        count3 += 1\n",
    "        next(f)\n",
    "    for line in f:\n",
    "        try:\n",
    "            obj = parse_and_filter(f.readline().strip(\",\\n\"))\n",
    "            if obj[\"properties\"][\"ST_ABBREV\"] == \"MD\":\n",
    "                md_geo3.append(obj)\n",
    "            geo3.append(obj)\n",
    "        except Exception as e:\n",
    "            print(f\"Line: {count_f}\")\n",
    "            print(f\"{type(e)}: {e}\")\n",
    "            failed.append(f.readline().strip(\",\\n\"))\n",
    "            continue"
   ]
  },
  {
   "cell_type": "code",
   "execution_count": 133,
   "id": "british-street",
   "metadata": {},
   "outputs": [],
   "source": [
    "geo_master = geo + geo2 + geo3"
   ]
  },
  {
   "cell_type": "code",
   "execution_count": 134,
   "id": "fitting-passage",
   "metadata": {},
   "outputs": [
    {
     "data": {
      "text/plain": [
       "192800"
      ]
     },
     "execution_count": 134,
     "metadata": {},
     "output_type": "execute_result"
    }
   ],
   "source": [
    "len(geo_master)"
   ]
  },
  {
   "cell_type": "code",
   "execution_count": 138,
   "id": "enormous-germany",
   "metadata": {},
   "outputs": [],
   "source": [
    "get_id = lambda x: x[\"properties\"][\"ID\"]"
   ]
  },
  {
   "cell_type": "code",
   "execution_count": 139,
   "id": "specific-presence",
   "metadata": {},
   "outputs": [],
   "source": [
    "from itertools import groupby\n",
    "geo_unique = [k for k,v in groupby(sorted(geo_master, key=get_id))]"
   ]
  },
  {
   "cell_type": "code",
   "execution_count": 140,
   "id": "mysterious-snowboard",
   "metadata": {},
   "outputs": [
    {
     "data": {
      "text/plain": [
       "165254"
      ]
     },
     "execution_count": 140,
     "metadata": {},
     "output_type": "execute_result"
    }
   ],
   "source": [
    "len(geo_unique)"
   ]
  },
  {
   "cell_type": "code",
   "execution_count": 142,
   "id": "sustainable-carbon",
   "metadata": {},
   "outputs": [],
   "source": [
    "with open(new_file, \"w\") as file:\n",
    "    json.dump(geo_unique, file)"
   ]
  },
  {
   "cell_type": "code",
   "execution_count": 144,
   "id": "pressed-channels",
   "metadata": {},
   "outputs": [],
   "source": [
    "geo_ids = {get_id(x) for x in geo_unique}"
   ]
  },
  {
   "cell_type": "code",
   "execution_count": 145,
   "id": "israeli-taxation",
   "metadata": {},
   "outputs": [],
   "source": [
    "df_ids = set(df[\"ID\"])"
   ]
  },
  {
   "cell_type": "code",
   "execution_count": 146,
   "id": "comparative-weight",
   "metadata": {},
   "outputs": [
    {
     "data": {
      "text/plain": [
       "220333"
      ]
     },
     "execution_count": 146,
     "metadata": {},
     "output_type": "execute_result"
    }
   ],
   "source": [
    "len(df_ids)"
   ]
  },
  {
   "cell_type": "code",
   "execution_count": 147,
   "id": "accredited-fifty",
   "metadata": {},
   "outputs": [],
   "source": [
    "missing = df_ids - geo_ids"
   ]
  },
  {
   "cell_type": "code",
   "execution_count": 152,
   "id": "threaded-intervention",
   "metadata": {},
   "outputs": [],
   "source": [
    "path = Path.cwd() / \"mapper\" / \"common\" / \"missing.json\"\n",
    "with open(path, \"w\") as f:\n",
    "    json.dump(list(missing), f)"
   ]
  },
  {
   "cell_type": "code",
   "execution_count": 153,
   "id": "unlike-respect",
   "metadata": {},
   "outputs": [
    {
     "data": {
      "text/plain": [
       "55079"
      ]
     },
     "execution_count": 153,
     "metadata": {},
     "output_type": "execute_result"
    }
   ],
   "source": [
    "220333 - 165254"
   ]
  },
  {
   "cell_type": "code",
   "execution_count": 154,
   "id": "constant-partner",
   "metadata": {},
   "outputs": [
    {
     "data": {
      "text/plain": [
       "55079"
      ]
     },
     "execution_count": 154,
     "metadata": {},
     "output_type": "execute_result"
    }
   ],
   "source": [
    "len(missing)"
   ]
  },
  {
   "cell_type": "code",
   "execution_count": null,
   "id": "another-matthew",
   "metadata": {},
   "outputs": [],
   "source": []
  }
 ],
 "metadata": {
  "kernelspec": {
   "display_name": "Python 3",
   "language": "python",
   "name": "python3"
  },
  "language_info": {
   "codemirror_mode": {
    "name": "ipython",
    "version": 3
   },
   "file_extension": ".py",
   "mimetype": "text/x-python",
   "name": "python",
   "nbconvert_exporter": "python",
   "pygments_lexer": "ipython3",
   "version": "3.7.7"
  }
 },
 "nbformat": 4,
 "nbformat_minor": 5
}
