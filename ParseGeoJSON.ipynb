{
 "cells": [
  {
   "cell_type": "code",
   "execution_count": 14,
   "id": "figured-hybrid",
   "metadata": {},
   "outputs": [],
   "source": [
    "import json\n",
    "import pandas as pd\n",
    "\n",
    "from mapper.common.ejscreen_indicators import INDICATORS"
   ]
  },
  {
   "cell_type": "code",
   "execution_count": 4,
   "id": "institutional-girlfriend",
   "metadata": {},
   "outputs": [],
   "source": [
    "missing_file = \"mapper/common/missing.json\"\n",
    "geo_file = \"../EJscreenGeo.json\"\n",
    "data_file = \"/Users/williamdaly/Downloads/EJSCREEN_2020_StatePctile.csv\""
   ]
  },
  {
   "cell_type": "code",
   "execution_count": 3,
   "id": "varying-agreement",
   "metadata": {},
   "outputs": [],
   "source": [
    "df = pd.read_csv(data_file, low_memory=False)\n",
    "df[\"ID\"] = df[\"ID\"].astype(\"str\").str.zfill(12)"
   ]
  },
  {
   "cell_type": "code",
   "execution_count": 27,
   "id": "native-nightlife",
   "metadata": {},
   "outputs": [],
   "source": [
    "with open(geo_file) as f:\n",
    "    geo = json.load(f)"
   ]
  },
  {
   "cell_type": "code",
   "execution_count": 37,
   "id": "framed-bunch",
   "metadata": {},
   "outputs": [],
   "source": [
    "keep = [\"ID\", \"ST_ABBREV\"] + list(INDICATORS.keys())\n",
    "def filter_props(obj, keep=keep):\n",
    "    props = {k: obj[\"properties\"][k] for k in keep}\n",
    "    obj[\"properties\"] = props \n",
    "    obj[\"id\"] = props[\"ID\"]\n",
    "    return obj"
   ]
  },
  {
   "cell_type": "code",
   "execution_count": 38,
   "id": "broadband-victim",
   "metadata": {},
   "outputs": [],
   "source": [
    "features = geo[\"features\"]"
   ]
  },
  {
   "cell_type": "code",
   "execution_count": 39,
   "id": "million-reserve",
   "metadata": {},
   "outputs": [],
   "source": [
    "geo_new = [filter_props(x) for x in features]"
   ]
  },
  {
   "cell_type": "code",
   "execution_count": 40,
   "id": "complex-gambling",
   "metadata": {},
   "outputs": [],
   "source": [
    "get_prop = lambda x, y: x[\"properties\"][y] "
   ]
  },
  {
   "cell_type": "code",
   "execution_count": 41,
   "id": "passive-belief",
   "metadata": {},
   "outputs": [],
   "source": [
    "md_features = [x for x in geo_new if get_prop(x, \"ST_ABBREV\") == \"MD\"]"
   ]
  },
  {
   "cell_type": "code",
   "execution_count": 43,
   "id": "endangered-series",
   "metadata": {},
   "outputs": [],
   "source": [
    "md_geo = {\n",
    "    \"type\": \"FeatureCollection\",\n",
    "    \"name\": \"MarylandBlockGroups\",\n",
    "    \"features\": md_features,\n",
    "}"
   ]
  },
  {
   "cell_type": "code",
   "execution_count": 48,
   "id": "herbal-equilibrium",
   "metadata": {},
   "outputs": [],
   "source": [
    "sample_geo = {\n",
    "    \"type\": \"FeatureCollection\",\n",
    "    \"name\": \"SampleBlockGroups\",\n",
    "    \"features\": geo_new[:10],\n",
    "}"
   ]
  },
  {
   "cell_type": "code",
   "execution_count": 50,
   "id": "intermediate-methodology",
   "metadata": {},
   "outputs": [],
   "source": [
    "block_geo = {\n",
    "    \"type\": \"AllBlockGroups\",\n",
    "    \"name\": \"SampleBlockGroups\",\n",
    "    \"features\": geo_new,\n",
    "}"
   ]
  },
  {
   "cell_type": "code",
   "execution_count": 44,
   "id": "urban-diana",
   "metadata": {},
   "outputs": [],
   "source": [
    "md_file = \"tests/data/maryland.geojson\"\n",
    "with open(md_file, \"w\") as f:\n",
    "    json.dump(md_geo, f)"
   ]
  },
  {
   "cell_type": "code",
   "execution_count": 49,
   "id": "allied-container",
   "metadata": {},
   "outputs": [],
   "source": [
    "sample_file = \"tests/data/sample.geojson\"\n",
    "with open(sample_file, \"w\") as f:\n",
    "    json.dump(sample_geo, f)"
   ]
  },
  {
   "cell_type": "code",
   "execution_count": 51,
   "id": "sensitive-access",
   "metadata": {},
   "outputs": [],
   "source": [
    "block_file = \"mapper/common/all_blocks.geojson\"\n",
    "with open(block_file, \"w\") as f:\n",
    "    json.dump(block_geo, f)"
   ]
  },
  {
   "cell_type": "code",
   "execution_count": 52,
   "id": "returning-jordan",
   "metadata": {},
   "outputs": [],
   "source": [
    "with open(sample_file) as f:\n",
    "    sample_out = json.load(f)"
   ]
  },
  {
   "cell_type": "code",
   "execution_count": 6,
   "id": "bronze-dialogue",
   "metadata": {},
   "outputs": [],
   "source": [
    "df_md.to_csv(\"tests/data/sample_scores.csv\")"
   ]
  },
  {
   "cell_type": "code",
   "execution_count": 53,
   "id": "supposed-price",
   "metadata": {},
   "outputs": [
    {
     "data": {
      "text/plain": [
       "dict_keys(['type', 'name', 'features'])"
      ]
     },
     "execution_count": 53,
     "metadata": {},
     "output_type": "execute_result"
    }
   ],
   "source": [
    "sample_out.keys()"
   ]
  },
  {
   "cell_type": "code",
   "execution_count": null,
   "id": "sealed-scene",
   "metadata": {},
   "outputs": [],
   "source": []
  }
 ],
 "metadata": {
  "kernelspec": {
   "display_name": "Python 3",
   "language": "python",
   "name": "python3"
  },
  "language_info": {
   "codemirror_mode": {
    "name": "ipython",
    "version": 3
   },
   "file_extension": ".py",
   "mimetype": "text/x-python",
   "name": "python",
   "nbconvert_exporter": "python",
   "pygments_lexer": "ipython3",
   "version": "3.7.7"
  }
 },
 "nbformat": 4,
 "nbformat_minor": 5
}
