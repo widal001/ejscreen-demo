{
 "cells": [
  {
   "cell_type": "code",
   "execution_count": 1,
   "id": "figured-hybrid",
   "metadata": {},
   "outputs": [],
   "source": [
    "import json\n",
    "import pandas as pd"
   ]
  },
  {
   "cell_type": "code",
   "execution_count": 2,
   "id": "institutional-girlfriend",
   "metadata": {},
   "outputs": [],
   "source": [
    "missing_file = \"mapper/common/missing.json\"\n",
    "geo_file = \"mapper/common/EJscreenGeo.json\"\n",
    "data_file = \"/Users/williamdaly/Downloads/EJSCREEN_2020_StatePctile.csv\""
   ]
  },
  {
   "cell_type": "code",
   "execution_count": null,
   "id": "seeing-admission",
   "metadata": {},
   "outputs": [],
   "source": [
    "with open(missing_file) as f:\n",
    "    missing = json.load(f)"
   ]
  },
  {
   "cell_type": "code",
   "execution_count": 4,
   "id": "native-nightlife",
   "metadata": {},
   "outputs": [],
   "source": [
    "with open(geo_file) as f:\n",
    "    geo = json.load(f)"
   ]
  },
  {
   "cell_type": "code",
   "execution_count": 3,
   "id": "varying-agreement",
   "metadata": {},
   "outputs": [],
   "source": [
    "df = pd.read_csv(data_file, low_memory=False)"
   ]
  },
  {
   "cell_type": "code",
   "execution_count": 4,
   "id": "theoretical-origin",
   "metadata": {},
   "outputs": [],
   "source": [
    "df[\"ID\"] = df[\"ID\"].astype(\"str\").str.zfill(12)"
   ]
  },
  {
   "cell_type": "code",
   "execution_count": 9,
   "id": "framed-bunch",
   "metadata": {},
   "outputs": [],
   "source": [
    "keep = [\"ID\", \"ST_ABBREV\", \"ACSTOTPOP\"]\n",
    "def filter_props(obj, keep=keep):\n",
    "    props = {k: obj[\"properties\"][k] for k in keep}\n",
    "    obj[\"properties\"] = props\n",
    "    return obj"
   ]
  },
  {
   "cell_type": "code",
   "execution_count": 7,
   "id": "broadband-victim",
   "metadata": {},
   "outputs": [],
   "source": [
    "features = geo[\"features\"]"
   ]
  },
  {
   "cell_type": "code",
   "execution_count": 10,
   "id": "million-reserve",
   "metadata": {},
   "outputs": [],
   "source": [
    "geo_new = [filter_props(x) for x in features]"
   ]
  },
  {
   "cell_type": "code",
   "execution_count": 16,
   "id": "complex-gambling",
   "metadata": {},
   "outputs": [],
   "source": [
    "get_prop = lambda x, y: x[\"properties\"][y] "
   ]
  },
  {
   "cell_type": "code",
   "execution_count": 24,
   "id": "comprehensive-reading",
   "metadata": {},
   "outputs": [],
   "source": [
    "geo_ids = [get_prop(x, \"ID\") for x in features]"
   ]
  },
  {
   "cell_type": "code",
   "execution_count": 27,
   "id": "passive-belief",
   "metadata": {},
   "outputs": [],
   "source": [
    "md_geo = [x for x in geo_new if get_prop(x, \"ST_ABBREV\") == \"MD\"]"
   ]
  },
  {
   "cell_type": "code",
   "execution_count": 30,
   "id": "urban-diana",
   "metadata": {},
   "outputs": [],
   "source": [
    "md_file = \"tests/data/sample_geo.json\"\n",
    "with open(md_file, \"w\") as f:\n",
    "    json.dump(md_geo, f)"
   ]
  },
  {
   "cell_type": "code",
   "execution_count": 31,
   "id": "allied-container",
   "metadata": {},
   "outputs": [],
   "source": [
    "new_file = \"mapper/common/BlocksGeo.json\"\n",
    "with open(new_file, \"w\") as f:\n",
    "    json.dump(geo_new, f)"
   ]
  },
  {
   "cell_type": "code",
   "execution_count": 5,
   "id": "returning-jordan",
   "metadata": {},
   "outputs": [
    {
     "data": {
      "text/plain": [
       "3926"
      ]
     },
     "execution_count": 5,
     "metadata": {},
     "output_type": "execute_result"
    }
   ],
   "source": [
    "df_md = df[df[\"ST_ABBREV\"] == \"MD\"]\n",
    "len(df_md)"
   ]
  },
  {
   "cell_type": "code",
   "execution_count": 6,
   "id": "bronze-dialogue",
   "metadata": {},
   "outputs": [],
   "source": [
    "df_md.to_csv(\"tests/data/sample_scores.csv\")"
   ]
  },
  {
   "cell_type": "code",
   "execution_count": null,
   "id": "supposed-price",
   "metadata": {},
   "outputs": [],
   "source": []
  }
 ],
 "metadata": {
  "kernelspec": {
   "display_name": "Python 3",
   "language": "python",
   "name": "python3"
  },
  "language_info": {
   "codemirror_mode": {
    "name": "ipython",
    "version": 3
   },
   "file_extension": ".py",
   "mimetype": "text/x-python",
   "name": "python",
   "nbconvert_exporter": "python",
   "pygments_lexer": "ipython3",
   "version": "3.7.7"
  }
 },
 "nbformat": 4,
 "nbformat_minor": 5
}
