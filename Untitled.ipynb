{
 "cells": [
  {
   "cell_type": "code",
   "execution_count": 8,
   "id": "cardiovascular-vegetation",
   "metadata": {},
   "outputs": [],
   "source": [
    "import pandas as pd\n",
    "import fiona\n",
    "import geopandas as gpd\n",
    "from pprint import pprint"
   ]
  },
  {
   "cell_type": "code",
   "execution_count": 4,
   "id": "dimensional-territory",
   "metadata": {},
   "outputs": [],
   "source": [
    "path = \"/Users/williamdaly/Downloads/EJSCREEN_2020_StatePctile.csv\"\n",
    "df = pd.read_csv(path, low_memory=False)"
   ]
  },
  {
   "cell_type": "code",
   "execution_count": 29,
   "id": "royal-chambers",
   "metadata": {},
   "outputs": [],
   "source": [
    "maryland = (df[\"STATE_NAME\"] == \"Maryland\")\n",
    "df_md = df[maryland].reset_index()"
   ]
  },
  {
   "cell_type": "code",
   "execution_count": 2,
   "id": "opening-suspension",
   "metadata": {},
   "outputs": [],
   "source": [
    "# Get all the layers from the .gdb file \n",
    "gdb_file = \"/Volumes/EJSCREEN/2020/EJSCREEN_2020_USPR.gdb.zip\"\n",
    "layers = fiona.listlayers(gdb_file)"
   ]
  },
  {
   "cell_type": "code",
   "execution_count": 6,
   "id": "digital-showcase",
   "metadata": {},
   "outputs": [
    {
     "data": {
      "text/plain": [
       "['Regions', 'States', 'USA', 'EJSCREEN_Full']"
      ]
     },
     "execution_count": 6,
     "metadata": {},
     "output_type": "execute_result"
    }
   ],
   "source": [
    "layers"
   ]
  },
  {
   "cell_type": "code",
   "execution_count": 13,
   "id": "official-recognition",
   "metadata": {},
   "outputs": [
    {
     "name": "stdout",
     "output_type": "stream",
     "text": [
      "{'geometry': 'MultiPolygon',\n",
      " 'properties': OrderedDict([('ID', 'str:12'),\n",
      "                            ('ACSTOTPOP', 'int'),\n",
      "                            ('ACSIPOVBAS', 'int'),\n",
      "                            ('ACSEDUCBAS', 'int'),\n",
      "                            ('ACSTOTHH', 'int'),\n",
      "                            ('ACSTOTHU', 'int'),\n",
      "                            ('MINORPOP', 'int'),\n",
      "                            ('MINORPCT', 'float'),\n",
      "                            ('LOWINCOME', 'int'),\n",
      "                            ('LOWINCPCT', 'float'),\n",
      "                            ('LESSHS', 'int'),\n",
      "                            ('LESSHSPCT', 'float'),\n",
      "                            ('LINGISO', 'int'),\n",
      "                            ('LINGISOPCT', 'float'),\n",
      "                            ('UNDER5', 'int'),\n",
      "                            ('UNDER5PCT', 'float'),\n",
      "                            ('OVER64', 'int'),\n",
      "                            ('OVER64PCT', 'float'),\n",
      "                            ('PRE1960', 'int'),\n",
      "                            ('PRE1960PCT', 'float'),\n",
      "                            ('VULEOPCT', 'float'),\n",
      "                            ('VULEO', 'float'),\n",
      "                            ('DISPEO', 'float'),\n",
      "                            ('DSLPM', 'float'),\n",
      "                            ('CANCER', 'float'),\n",
      "                            ('RESP', 'float'),\n",
      "                            ('PTRAF', 'float'),\n",
      "                            ('PWDIS', 'float'),\n",
      "                            ('PNPL', 'float'),\n",
      "                            ('PRMP', 'float'),\n",
      "                            ('PTSDF', 'float'),\n",
      "                            ('OZONE', 'float'),\n",
      "                            ('PM25', 'float'),\n",
      "                            ('D_LDPNT_2', 'float'),\n",
      "                            ('D_DSLPM_2', 'float'),\n",
      "                            ('D_CANCR_2', 'float'),\n",
      "                            ('D_RESP_2', 'float'),\n",
      "                            ('D_PTRAF_2', 'float'),\n",
      "                            ('D_PWDIS_2', 'float'),\n",
      "                            ('D_PNPL_2', 'float'),\n",
      "                            ('D_PRMP_2', 'float'),\n",
      "                            ('D_PTSDF_2', 'float'),\n",
      "                            ('D_OZONE_2', 'float'),\n",
      "                            ('D_PM25_2', 'float'),\n",
      "                            ('STATE_NAME', 'str:20'),\n",
      "                            ('ST_ABBREV', 'str:2'),\n",
      "                            ('REGION', 'int'),\n",
      "                            ('P_MINORPCT', 'float'),\n",
      "                            ('P_LWINCPCT', 'float'),\n",
      "                            ('P_LESHSPCT', 'float'),\n",
      "                            ('P_LNGISPCT', 'float'),\n",
      "                            ('P_UNDR5PCT', 'float'),\n",
      "                            ('P_OVR64PCT', 'float'),\n",
      "                            ('P_LDPNT', 'float'),\n",
      "                            ('P_VULEOPCT', 'float'),\n",
      "                            ('P_DSLPM', 'float'),\n",
      "                            ('P_CANCR', 'float'),\n",
      "                            ('P_RESP', 'float'),\n",
      "                            ('P_PTRAF', 'float'),\n",
      "                            ('P_PWDIS', 'float'),\n",
      "                            ('P_PNPL', 'float'),\n",
      "                            ('P_PRMP', 'float'),\n",
      "                            ('P_PTSDF', 'float'),\n",
      "                            ('P_OZONE', 'float'),\n",
      "                            ('P_PM25', 'float'),\n",
      "                            ('P_LDPNT_D2', 'float'),\n",
      "                            ('P_DSLPM_D2', 'float'),\n",
      "                            ('P_CANCR_D2', 'float'),\n",
      "                            ('P_RESP_D2', 'float'),\n",
      "                            ('P_PTRAF_D2', 'float'),\n",
      "                            ('P_PWDIS_D2', 'float'),\n",
      "                            ('P_PNPL_D2', 'float'),\n",
      "                            ('P_PRMP_D2', 'float'),\n",
      "                            ('P_PTSDF_D2', 'float'),\n",
      "                            ('P_OZONE_D2', 'float'),\n",
      "                            ('P_PM25_D2', 'float'),\n",
      "                            ('B_MINORPCT', 'int'),\n",
      "                            ('B_LWINCPCT', 'int'),\n",
      "                            ('B_LESHSPCT', 'int'),\n",
      "                            ('B_LNGISPCT', 'int'),\n",
      "                            ('B_UNDR5PCT', 'int'),\n",
      "                            ('B_OVR64PCT', 'int'),\n",
      "                            ('B_LDPNT', 'int'),\n",
      "                            ('B_VULEOPCT', 'int'),\n",
      "                            ('B_DSLPM', 'int'),\n",
      "                            ('B_CANCR', 'int'),\n",
      "                            ('B_RESP', 'int'),\n",
      "                            ('B_PTRAF', 'int'),\n",
      "                            ('B_PWDIS', 'int'),\n",
      "                            ('B_PNPL', 'int'),\n",
      "                            ('B_PRMP', 'int'),\n",
      "                            ('B_PTSDF', 'int'),\n",
      "                            ('B_OZONE', 'int'),\n",
      "                            ('B_PM25', 'int'),\n",
      "                            ('B_LDPNT_D2', 'int'),\n",
      "                            ('B_DSLPM_D2', 'int'),\n",
      "                            ('B_CANCR_D2', 'int'),\n",
      "                            ('B_RESP_D2', 'int'),\n",
      "                            ('B_PTRAF_D2', 'int'),\n",
      "                            ('B_PWDIS_D2', 'int'),\n",
      "                            ('B_PNPL_D2', 'int'),\n",
      "                            ('B_PRMP_D2', 'int'),\n",
      "                            ('B_PTSDF_D2', 'int'),\n",
      "                            ('B_OZONE_D2', 'int'),\n",
      "                            ('B_PM25_D2', 'int'),\n",
      "                            ('T_MINORPCT', 'str:20'),\n",
      "                            ('T_LWINCPCT', 'str:20'),\n",
      "                            ('T_LNGISPCT', 'str:20'),\n",
      "                            ('T_LESHSPCT', 'str:20'),\n",
      "                            ('T_UNDR5PCT', 'str:20'),\n",
      "                            ('T_OVR64PCT', 'str:20'),\n",
      "                            ('T_VULEOPCT', 'str:20'),\n",
      "                            ('T_LDPNT', 'str:70'),\n",
      "                            ('T_LDPNT_D2', 'str:10'),\n",
      "                            ('T_DSLPM', 'str:70'),\n",
      "                            ('T_DSLPM_D2', 'str:10'),\n",
      "                            ('T_CANCR', 'str:70'),\n",
      "                            ('T_CANCR_D2', 'str:10'),\n",
      "                            ('T_RESP', 'str:70'),\n",
      "                            ('T_RESP_D2', 'str:10'),\n",
      "                            ('T_PTRAF', 'str:70'),\n",
      "                            ('T_PTRAF_D2', 'str:10'),\n",
      "                            ('T_PWDIS', 'str:70'),\n",
      "                            ('T_PWDIS_D2', 'str:10'),\n",
      "                            ('T_PNPL', 'str:70'),\n",
      "                            ('T_PNPL_D2', 'str:10'),\n",
      "                            ('T_PRMP', 'str:70'),\n",
      "                            ('T_PRMP_D2', 'str:10'),\n",
      "                            ('T_PTSDF', 'str:70'),\n",
      "                            ('T_PTSDF_D2', 'str:10'),\n",
      "                            ('T_OZONE', 'str:70'),\n",
      "                            ('T_OZONE_D2', 'str:10'),\n",
      "                            ('T_PM25', 'str:70'),\n",
      "                            ('T_PM25_D2', 'str:10'),\n",
      "                            ('AREALAND', 'float'),\n",
      "                            ('AREAWATER', 'float'),\n",
      "                            ('NPL_CNT', 'int'),\n",
      "                            ('TSDF_CNT', 'int'),\n",
      "                            ('Shape_Length', 'float'),\n",
      "                            ('Shape_Area', 'float')])}\n"
     ]
    }
   ],
   "source": [
    "with fiona.open(gdb_file, layer=\"EJSCREEN_Full\") as c:\n",
    "    pprint(c.schema)"
   ]
  },
  {
   "cell_type": "code",
   "execution_count": null,
   "id": "adverse-planner",
   "metadata": {},
   "outputs": [],
   "source": []
  }
 ],
 "metadata": {
  "kernelspec": {
   "display_name": "Python 3",
   "language": "python",
   "name": "python3"
  },
  "language_info": {
   "codemirror_mode": {
    "name": "ipython",
    "version": 3
   },
   "file_extension": ".py",
   "mimetype": "text/x-python",
   "name": "python",
   "nbconvert_exporter": "python",
   "pygments_lexer": "ipython3",
   "version": "3.7.7"
  }
 },
 "nbformat": 4,
 "nbformat_minor": 5
}
